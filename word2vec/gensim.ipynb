{
 "cells": [
  {
   "cell_type": "code",
   "execution_count": 1,
   "metadata": {},
   "outputs": [],
   "source": [
    "import re, string \n",
    "import pandas as pd \n",
    "from time import time  \n",
    "from collections import defaultdict\n",
    "import spacy\n",
    "from sklearn.manifold import TSNE\n",
    "from nltk.corpus import stopwords\n",
    "STOPWORDS = set(stopwords.words('english'))\n",
    "from gensim.models import Word2Vec\n",
    "from matplotlib import pyplot as plt\n",
    "%matplotlib inline"
   ]
  },
  {
   "cell_type": "code",
   "execution_count": 2,
   "metadata": {},
   "outputs": [],
   "source": [
    "df = pd.read_csv('bbc-text.csv')"
   ]
  },
  {
   "cell_type": "code",
   "execution_count": 3,
   "metadata": {},
   "outputs": [
    {
     "data": {
      "text/html": [
       "<div>\n",
       "<style scoped>\n",
       "    .dataframe tbody tr th:only-of-type {\n",
       "        vertical-align: middle;\n",
       "    }\n",
       "\n",
       "    .dataframe tbody tr th {\n",
       "        vertical-align: top;\n",
       "    }\n",
       "\n",
       "    .dataframe thead th {\n",
       "        text-align: right;\n",
       "    }\n",
       "</style>\n",
       "<table border=\"1\" class=\"dataframe\">\n",
       "  <thead>\n",
       "    <tr style=\"text-align: right;\">\n",
       "      <th></th>\n",
       "      <th>category</th>\n",
       "      <th>text</th>\n",
       "    </tr>\n",
       "  </thead>\n",
       "  <tbody>\n",
       "    <tr>\n",
       "      <th>0</th>\n",
       "      <td>tech</td>\n",
       "      <td>tv future in the hands of viewers with home th...</td>\n",
       "    </tr>\n",
       "    <tr>\n",
       "      <th>1</th>\n",
       "      <td>business</td>\n",
       "      <td>worldcom boss  left books alone  former worldc...</td>\n",
       "    </tr>\n",
       "    <tr>\n",
       "      <th>2</th>\n",
       "      <td>sport</td>\n",
       "      <td>tigers wary of farrell  gamble  leicester say ...</td>\n",
       "    </tr>\n",
       "    <tr>\n",
       "      <th>3</th>\n",
       "      <td>sport</td>\n",
       "      <td>yeading face newcastle in fa cup premiership s...</td>\n",
       "    </tr>\n",
       "    <tr>\n",
       "      <th>4</th>\n",
       "      <td>entertainment</td>\n",
       "      <td>ocean s twelve raids box office ocean s twelve...</td>\n",
       "    </tr>\n",
       "  </tbody>\n",
       "</table>\n",
       "</div>"
      ],
      "text/plain": [
       "        category                                               text\n",
       "0           tech  tv future in the hands of viewers with home th...\n",
       "1       business  worldcom boss  left books alone  former worldc...\n",
       "2          sport  tigers wary of farrell  gamble  leicester say ...\n",
       "3          sport  yeading face newcastle in fa cup premiership s...\n",
       "4  entertainment  ocean s twelve raids box office ocean s twelve..."
      ]
     },
     "execution_count": 3,
     "metadata": {},
     "output_type": "execute_result"
    }
   ],
   "source": [
    "df.head()"
   ]
  },
  {
   "cell_type": "code",
   "execution_count": 4,
   "metadata": {},
   "outputs": [],
   "source": [
    "def clean_text(text):\n",
    "    '''Make text lowercase, remove text in square brackets, remove punctuation and remove words containing numbers.'''\n",
    "    text = text.lower()\n",
    "    text = re.sub(r'\\[.*?\\]', '', text)\n",
    "    text = re.sub(r'[%s]' % re.escape(string.punctuation), '', text)\n",
    "    text = re.sub(r'\\w*\\d\\w*', '', text)\n",
    "    # Remove a sentence if it is only one word long\n",
    "    if len(text) > 2:\n",
    "        return ' '.join(word for word in text.split() if word not in STOPWORDS)\n",
    "\n",
    "df_clean = pd.DataFrame(df.text.apply(lambda x: clean_text(x)))"
   ]
  },
  {
   "cell_type": "code",
   "execution_count": 5,
   "metadata": {},
   "outputs": [
    {
     "data": {
      "text/html": [
       "<div>\n",
       "<style scoped>\n",
       "    .dataframe tbody tr th:only-of-type {\n",
       "        vertical-align: middle;\n",
       "    }\n",
       "\n",
       "    .dataframe tbody tr th {\n",
       "        vertical-align: top;\n",
       "    }\n",
       "\n",
       "    .dataframe thead th {\n",
       "        text-align: right;\n",
       "    }\n",
       "</style>\n",
       "<table border=\"1\" class=\"dataframe\">\n",
       "  <thead>\n",
       "    <tr style=\"text-align: right;\">\n",
       "      <th></th>\n",
       "      <th>text</th>\n",
       "    </tr>\n",
       "  </thead>\n",
       "  <tbody>\n",
       "    <tr>\n",
       "      <th>0</th>\n",
       "      <td>tv future hands viewers home theatre systems p...</td>\n",
       "    </tr>\n",
       "    <tr>\n",
       "      <th>1</th>\n",
       "      <td>worldcom boss left books alone former worldcom...</td>\n",
       "    </tr>\n",
       "    <tr>\n",
       "      <th>2</th>\n",
       "      <td>tigers wary farrell gamble leicester say rushe...</td>\n",
       "    </tr>\n",
       "    <tr>\n",
       "      <th>3</th>\n",
       "      <td>yeading face newcastle fa cup premiership side...</td>\n",
       "    </tr>\n",
       "    <tr>\n",
       "      <th>4</th>\n",
       "      <td>ocean twelve raids box office ocean twelve cri...</td>\n",
       "    </tr>\n",
       "  </tbody>\n",
       "</table>\n",
       "</div>"
      ],
      "text/plain": [
       "                                                text\n",
       "0  tv future hands viewers home theatre systems p...\n",
       "1  worldcom boss left books alone former worldcom...\n",
       "2  tigers wary farrell gamble leicester say rushe...\n",
       "3  yeading face newcastle fa cup premiership side...\n",
       "4  ocean twelve raids box office ocean twelve cri..."
      ]
     },
     "execution_count": 5,
     "metadata": {},
     "output_type": "execute_result"
    }
   ],
   "source": [
    "df_clean.head()"
   ]
  },
  {
   "cell_type": "code",
   "execution_count": 6,
   "metadata": {},
   "outputs": [],
   "source": [
    "nlp = spacy.load('en', disable=['ner', 'parser']) # disabling Named Entity Recognition for speed\n",
    "\n",
    "def lemmatizer(text):        \n",
    "    sent = []\n",
    "    doc = nlp(text)\n",
    "    for word in doc:\n",
    "        sent.append(word.lemma_)\n",
    "    return \" \".join(sent)\n",
    "\n",
    "df_clean[\"text_lemmatize\"] =  df_clean.apply(lambda x: lemmatizer(x['text']), axis=1)"
   ]
  },
  {
   "cell_type": "code",
   "execution_count": 7,
   "metadata": {},
   "outputs": [
    {
     "data": {
      "text/html": [
       "<div>\n",
       "<style scoped>\n",
       "    .dataframe tbody tr th:only-of-type {\n",
       "        vertical-align: middle;\n",
       "    }\n",
       "\n",
       "    .dataframe tbody tr th {\n",
       "        vertical-align: top;\n",
       "    }\n",
       "\n",
       "    .dataframe thead th {\n",
       "        text-align: right;\n",
       "    }\n",
       "</style>\n",
       "<table border=\"1\" class=\"dataframe\">\n",
       "  <thead>\n",
       "    <tr style=\"text-align: right;\">\n",
       "      <th></th>\n",
       "      <th>text</th>\n",
       "      <th>text_lemmatize</th>\n",
       "    </tr>\n",
       "  </thead>\n",
       "  <tbody>\n",
       "    <tr>\n",
       "      <th>0</th>\n",
       "      <td>tv future hands viewers home theatre systems p...</td>\n",
       "      <td>tv future hand viewer home theatre system plas...</td>\n",
       "    </tr>\n",
       "    <tr>\n",
       "      <th>1</th>\n",
       "      <td>worldcom boss left books alone former worldcom...</td>\n",
       "      <td>worldcom boss leave book alone former worldcom...</td>\n",
       "    </tr>\n",
       "    <tr>\n",
       "      <th>2</th>\n",
       "      <td>tigers wary farrell gamble leicester say rushe...</td>\n",
       "      <td>tigers wary farrell gamble leicester say rush ...</td>\n",
       "    </tr>\n",
       "    <tr>\n",
       "      <th>3</th>\n",
       "      <td>yeading face newcastle fa cup premiership side...</td>\n",
       "      <td>yeade face newcastle fa cup premiership side n...</td>\n",
       "    </tr>\n",
       "    <tr>\n",
       "      <th>4</th>\n",
       "      <td>ocean twelve raids box office ocean twelve cri...</td>\n",
       "      <td>ocean twelve raid box office ocean twelve crim...</td>\n",
       "    </tr>\n",
       "  </tbody>\n",
       "</table>\n",
       "</div>"
      ],
      "text/plain": [
       "                                                text  \\\n",
       "0  tv future hands viewers home theatre systems p...   \n",
       "1  worldcom boss left books alone former worldcom...   \n",
       "2  tigers wary farrell gamble leicester say rushe...   \n",
       "3  yeading face newcastle fa cup premiership side...   \n",
       "4  ocean twelve raids box office ocean twelve cri...   \n",
       "\n",
       "                                      text_lemmatize  \n",
       "0  tv future hand viewer home theatre system plas...  \n",
       "1  worldcom boss leave book alone former worldcom...  \n",
       "2  tigers wary farrell gamble leicester say rush ...  \n",
       "3  yeade face newcastle fa cup premiership side n...  \n",
       "4  ocean twelve raid box office ocean twelve crim...  "
      ]
     },
     "execution_count": 7,
     "metadata": {},
     "output_type": "execute_result"
    }
   ],
   "source": [
    "df_clean.head()"
   ]
  },
  {
   "cell_type": "code",
   "execution_count": 8,
   "metadata": {},
   "outputs": [],
   "source": [
    "df_clean['text_lemmatize_clean'] = df_clean['text_lemmatize'].str.replace('-PRON-', '')"
   ]
  },
  {
   "cell_type": "code",
   "execution_count": 9,
   "metadata": {},
   "outputs": [
    {
     "data": {
      "text/plain": [
       "25892"
      ]
     },
     "execution_count": 9,
     "metadata": {},
     "output_type": "execute_result"
    }
   ],
   "source": [
    "sentences = [row.split() for row in df_clean['text_lemmatize_clean']]\n",
    "word_freq = defaultdict(int)\n",
    "for sent in sentences:\n",
    "    for i in sent:\n",
    "        word_freq[i] += 1\n",
    "len(word_freq)"
   ]
  },
  {
   "cell_type": "code",
   "execution_count": 10,
   "metadata": {},
   "outputs": [
    {
     "data": {
      "text/plain": [
       "['say', 'mr', 'year', 'would', 'make', 'also', 'people', 'new', 'one', 'take']"
      ]
     },
     "execution_count": 10,
     "metadata": {},
     "output_type": "execute_result"
    }
   ],
   "source": [
    "sorted(word_freq, key=word_freq.get, reverse=True)[:10]"
   ]
  },
  {
   "cell_type": "code",
   "execution_count": 11,
   "metadata": {
    "scrolled": false
   },
   "outputs": [],
   "source": [
    "# min_count: minimum number of occurrences of a word in the corpus to be included in the model.\n",
    "# window: the maximum distance between the current and predicted word within a sentence.\n",
    "# size: the dimensionality of the feature vectors\n",
    "# workers: I know my system is having 4 cores, \n",
    "w2v_model = Word2Vec(min_count=200,\n",
    "                     window=5,\n",
    "                     size=100,\n",
    "                     workers=4)"
   ]
  },
  {
   "cell_type": "code",
   "execution_count": 12,
   "metadata": {},
   "outputs": [],
   "source": [
    "# this line of code to prepare the model vocabulary\n",
    "w2v_model.build_vocab(sentences)"
   ]
  },
  {
   "cell_type": "code",
   "execution_count": 13,
   "metadata": {},
   "outputs": [
    {
     "name": "stderr",
     "output_type": "stream",
     "text": [
      "C:\\Users\\builder\\Anaconda\\lib\\site-packages\\ipykernel_launcher.py:2: DeprecationWarning: Call to deprecated `iter` (Attribute will be removed in 4.0.0, use self.epochs instead).\n",
      "  \n"
     ]
    },
    {
     "data": {
      "text/plain": [
       "(966497, 2384980)"
      ]
     },
     "execution_count": 13,
     "metadata": {},
     "output_type": "execute_result"
    }
   ],
   "source": [
    "# train word vectors\n",
    "w2v_model.train(sentences, total_examples=w2v_model.corpus_count, epochs=w2v_model.iter)"
   ]
  },
  {
   "cell_type": "code",
   "execution_count": 14,
   "metadata": {},
   "outputs": [],
   "source": [
    "# As we do not plan to train the model any further, \n",
    "# we are calling init_sims(), which will make the model much more memory-efficient\n",
    "w2v_model.init_sims(replace=True)"
   ]
  },
  {
   "cell_type": "code",
   "execution_count": 15,
   "metadata": {},
   "outputs": [
    {
     "data": {
      "text/plain": [
       "[('economic', 0.9871723651885986),\n",
       " ('rate', 0.9357798099517822),\n",
       " ('growth', 0.921427845954895),\n",
       " ('continue', 0.9048452377319336),\n",
       " ('spending', 0.9037443399429321),\n",
       " ('interest', 0.8863428831100464),\n",
       " ('boost', 0.871715247631073),\n",
       " ('budget', 0.864173173904419),\n",
       " ('low', 0.8620569705963135),\n",
       " ('strong', 0.8581759333610535)]"
      ]
     },
     "execution_count": 15,
     "metadata": {},
     "output_type": "execute_result"
    }
   ],
   "source": [
    "# Explore the model\n",
    "w2v_model.wv.most_similar(positive=['economy'])"
   ]
  },
  {
   "cell_type": "code",
   "execution_count": 16,
   "metadata": {},
   "outputs": [
    {
     "data": {
      "text/plain": [
       "[('commission', 0.955825686454773),\n",
       " ('foreign', 0.9092054963111877),\n",
       " ('state', 0.9057469367980957),\n",
       " ('raise', 0.8940020799636841),\n",
       " ('financial', 0.8767659664154053),\n",
       " ('trade', 0.8663722276687622),\n",
       " ('eu', 0.8641173839569092),\n",
       " ('statement', 0.8571828007698059),\n",
       " ('budget', 0.855439305305481),\n",
       " ('official', 0.8448125720024109)]"
      ]
     },
     "execution_count": 16,
     "metadata": {},
     "output_type": "execute_result"
    }
   ],
   "source": [
    "w2v_model.wv.most_similar(positive=['president'])"
   ]
  },
  {
   "cell_type": "code",
   "execution_count": 17,
   "metadata": {},
   "outputs": [],
   "source": [
    "#Nor America, neither USA...\n",
    "# w2v_model.wv.most_similar(positive=['America'])\n",
    "# w2v_model.wv.most_similar(positive=['USA'])"
   ]
  },
  {
   "cell_type": "code",
   "execution_count": 18,
   "metadata": {},
   "outputs": [
    {
     "data": {
      "text/plain": [
       "0.8625789"
      ]
     },
     "execution_count": 18,
     "metadata": {},
     "output_type": "execute_result"
    }
   ],
   "source": [
    "# how similar are these two words to each other \n",
    "w2v_model.wv.similarity('company', 'business')"
   ]
  },
  {
   "cell_type": "code",
   "execution_count": 46,
   "metadata": {},
   "outputs": [],
   "source": [
    "def tsne_plot(model, wordToFind):\n",
    "    \"Create TSNE model and plot it\"\n",
    "    labels = []\n",
    "    tokens = []\n",
    "    \n",
    "    tokens.append(model[wordToFind])\n",
    "    labels.append(wordToFind)\n",
    "\n",
    "    for word, value in model.wv.most_similar(positive=[wordToFind]):\n",
    "        tokens.append(model[word])\n",
    "        labels.append(word)\n",
    "    \n",
    "    tsne_model = TSNE(perplexity=40, n_components=2, init='pca', n_iter=2500, random_state=23)\n",
    "    new_values = tsne_model.fit_transform(tokens)\n",
    "\n",
    "    x = []\n",
    "    y = []\n",
    "    for value in new_values:\n",
    "        x.append(value[0])\n",
    "        y.append(value[1])\n",
    "        \n",
    "    plt.figure(figsize=(10, 10))\n",
    "    plt.scatter(x[0],y[0], c='#ff0000')\n",
    "    plt.annotate(labels[0],\n",
    "                     xy=(x[0], y[0]),\n",
    "                     xytext=(5, 2),\n",
    "                     textcoords='offset points',\n",
    "                     ha='right',\n",
    "                     va='bottom')\n",
    "    for i in range(1, len(x)):\n",
    "        plt.scatter(x[i],y[i], c='#000000')\n",
    "        plt.annotate(labels[i],\n",
    "                     xy=(x[i], y[i]),\n",
    "                     xytext=(5, 2),\n",
    "                     textcoords='offset points',\n",
    "                     ha='right',\n",
    "                     va='bottom')\n",
    "    plt.show()"
   ]
  },
  {
   "cell_type": "code",
   "execution_count": 47,
   "metadata": {},
   "outputs": [
    {
     "data": {
      "text/plain": [
       "{'tv': <gensim.models.keyedvectors.Vocab at 0x1d0c6f3def0>,\n",
       " 'future': <gensim.models.keyedvectors.Vocab at 0x1d0c6f3deb8>,\n",
       " 'hand': <gensim.models.keyedvectors.Vocab at 0x1d0bb1e57b8>,\n",
       " 'home': <gensim.models.keyedvectors.Vocab at 0x1d0bb1e57f0>,\n",
       " 'system': <gensim.models.keyedvectors.Vocab at 0x1d0bb1e5b38>,\n",
       " 'digital': <gensim.models.keyedvectors.Vocab at 0x1d0bb1e5c50>,\n",
       " 'video': <gensim.models.keyedvectors.Vocab at 0x1d0bb1e5828>,\n",
       " 'move': <gensim.models.keyedvectors.Vocab at 0x1d0bb1e5ac8>,\n",
       " 'live': <gensim.models.keyedvectors.Vocab at 0x1d0bb1e5860>,\n",
       " 'way': <gensim.models.keyedvectors.Vocab at 0x1d0bb1e5b70>,\n",
       " 'people': <gensim.models.keyedvectors.Vocab at 0x1d0c6f48048>,\n",
       " 'different': <gensim.models.keyedvectors.Vocab at 0x1d0c6f48080>,\n",
       " 'five': <gensim.models.keyedvectors.Vocab at 0x1d0c6f480b8>,\n",
       " 'year': <gensim.models.keyedvectors.Vocab at 0x1d0c6f480f0>,\n",
       " 'time': <gensim.models.keyedvectors.Vocab at 0x1d0c6f48128>,\n",
       " 'accord': <gensim.models.keyedvectors.Vocab at 0x1d0c6f48160>,\n",
       " 'consumer': <gensim.models.keyedvectors.Vocab at 0x1d0c6f48198>,\n",
       " 'show': <gensim.models.keyedvectors.Vocab at 0x1d0c6f481d0>,\n",
       " 'new': <gensim.models.keyedvectors.Vocab at 0x1d0c6f48208>,\n",
       " 'technology': <gensim.models.keyedvectors.Vocab at 0x1d0c6f48240>,\n",
       " 'one': <gensim.models.keyedvectors.Vocab at 0x1d0c6f48278>,\n",
       " 'lead': <gensim.models.keyedvectors.Vocab at 0x1d0c6f482b0>,\n",
       " 'programme': <gensim.models.keyedvectors.Vocab at 0x1d0c6f482e8>,\n",
       " 'content': <gensim.models.keyedvectors.Vocab at 0x1d0c6f48320>,\n",
       " 'network': <gensim.models.keyedvectors.Vocab at 0x1d0c6f48358>,\n",
       " 'company': <gensim.models.keyedvectors.Vocab at 0x1d0c6f48390>,\n",
       " 'broadband': <gensim.models.keyedvectors.Vocab at 0x1d0c6f483c8>,\n",
       " 'service': <gensim.models.keyedvectors.Vocab at 0x1d0c6f48400>,\n",
       " 'device': <gensim.models.keyedvectors.Vocab at 0x1d0c6f48438>,\n",
       " 'personal': <gensim.models.keyedvectors.Vocab at 0x1d0c6f48470>,\n",
       " 'like': <gensim.models.keyedvectors.Vocab at 0x1d0c6f484a8>,\n",
       " 'us': <gensim.models.keyedvectors.Vocab at 0x1d0c6f484e0>,\n",
       " 'uk': <gensim.models.keyedvectors.Vocab at 0x1d0c6f48518>,\n",
       " 'allow': <gensim.models.keyedvectors.Vocab at 0x1d0c6f48550>,\n",
       " 'record': <gensim.models.keyedvectors.Vocab at 0x1d0c6f48588>,\n",
       " 'play': <gensim.models.keyedvectors.Vocab at 0x1d0c6f485c0>,\n",
       " 'want': <gensim.models.keyedvectors.Vocab at 0x1d0c6f485f8>,\n",
       " 'much': <gensim.models.keyedvectors.Vocab at 0x1d0c6f48630>,\n",
       " 'also': <gensim.models.keyedvectors.Vocab at 0x1d0c6f48668>,\n",
       " 'set': <gensim.models.keyedvectors.Vocab at 0x1d0c6f486a0>,\n",
       " 'big': <gensim.models.keyedvectors.Vocab at 0x1d0c6f486d8>,\n",
       " 'business': <gensim.models.keyedvectors.Vocab at 0x1d0c6f48710>,\n",
       " 'japan': <gensim.models.keyedvectors.Vocab at 0x1d0c6f48748>,\n",
       " 'take': <gensim.models.keyedvectors.Vocab at 0x1d0c6f48780>,\n",
       " 'europe': <gensim.models.keyedvectors.Vocab at 0x1d0c6f487b8>,\n",
       " 'program': <gensim.models.keyedvectors.Vocab at 0x1d0c6f487f0>,\n",
       " 'put': <gensim.models.keyedvectors.Vocab at 0x1d0c6f48828>,\n",
       " 'mean': <gensim.models.keyedvectors.Vocab at 0x1d0c6f48860>,\n",
       " 'term': <gensim.models.keyedvectors.Vocab at 0x1d0c6f48898>,\n",
       " 'well': <gensim.models.keyedvectors.Vocab at 0x1d0c6f488d0>,\n",
       " 'although': <gensim.models.keyedvectors.Vocab at 0x1d0c6f48908>,\n",
       " 'concern': <gensim.models.keyedvectors.Vocab at 0x1d0c6f48940>,\n",
       " 'raise': <gensim.models.keyedvectors.Vocab at 0x1d0c6f48978>,\n",
       " 'grow': <gensim.models.keyedvectors.Vocab at 0x1d0c6f489b0>,\n",
       " 'happen': <gensim.models.keyedvectors.Vocab at 0x1d0c6f489e8>,\n",
       " 'today': <gensim.models.keyedvectors.Vocab at 0x1d0c6f48a20>,\n",
       " 'see': <gensim.models.keyedvectors.Vocab at 0x1d0c6f48a58>,\n",
       " 'month': <gensim.models.keyedvectors.Vocab at 0x1d0c6f48a90>,\n",
       " 'bbc': <gensim.models.keyedvectors.Vocab at 0x1d0c6f48ac8>,\n",
       " 'tell': <gensim.models.keyedvectors.Vocab at 0x1d0c6f48b00>,\n",
       " 'news': <gensim.models.keyedvectors.Vocab at 0x1d0c6f48b38>,\n",
       " 'website': <gensim.models.keyedvectors.Vocab at 0x1d0c6f48b70>,\n",
       " 'issue': <gensim.models.keyedvectors.Vocab at 0x1d0c6f48ba8>,\n",
       " 'lose': <gensim.models.keyedvectors.Vocab at 0x1d0c6f48be0>,\n",
       " 'yet': <gensim.models.keyedvectors.Vocab at 0x1d0c6f48c18>,\n",
       " 'important': <gensim.models.keyedvectors.Vocab at 0x1d0c6f48c50>,\n",
       " 'talk': <gensim.models.keyedvectors.Vocab at 0x1d0c6f48c88>,\n",
       " 'rather': <gensim.models.keyedvectors.Vocab at 0x1d0c6f48cc0>,\n",
       " 'say': <gensim.models.keyedvectors.Vocab at 0x1d0c6f48cf8>,\n",
       " 'firm': <gensim.models.keyedvectors.Vocab at 0x1d0c6f48d30>,\n",
       " 'add': <gensim.models.keyedvectors.Vocab at 0x1d0c6f48d68>,\n",
       " 'challenge': <gensim.models.keyedvectors.Vocab at 0x1d0c6f48da0>,\n",
       " 'hard': <gensim.models.keyedvectors.Vocab at 0x1d0c6f48dd8>,\n",
       " 'president': <gensim.models.keyedvectors.Vocab at 0x1d0c6f48e10>,\n",
       " 'group': <gensim.models.keyedvectors.Vocab at 0x1d0c6f48e48>,\n",
       " 'find': <gensim.models.keyedvectors.Vocab at 0x1d0c6f48e80>,\n",
       " 'could': <gensim.models.keyedvectors.Vocab at 0x1d0c6f48eb8>,\n",
       " 'book': <gensim.models.keyedvectors.Vocab at 0x1d0c6f48ef0>,\n",
       " 'search': <gensim.models.keyedvectors.Vocab at 0x1d0c6f48f28>,\n",
       " 'help': <gensim.models.keyedvectors.Vocab at 0x1d0c6f48f60>,\n",
       " 'may': <gensim.models.keyedvectors.Vocab at 0x1d0c6f48f98>,\n",
       " 'work': <gensim.models.keyedvectors.Vocab at 0x1d0c6f48fd0>,\n",
       " 'young': <gensim.models.keyedvectors.Vocab at 0x1d0c6f4a048>,\n",
       " 'use': <gensim.models.keyedvectors.Vocab at 0x1d0c6f4a080>,\n",
       " 'control': <gensim.models.keyedvectors.Vocab at 0x1d0c6f4a0b8>,\n",
       " 'gadget': <gensim.models.keyedvectors.Vocab at 0x1d0c6f4a0f0>,\n",
       " 'old': <gensim.models.keyedvectors.Vocab at 0x1d0c6f4a128>,\n",
       " 'know': <gensim.models.keyedvectors.Vocab at 0x1d0c6f4a160>,\n",
       " 'get': <gensim.models.keyedvectors.Vocab at 0x1d0c6f4a198>,\n",
       " 'mr': <gensim.models.keyedvectors.Vocab at 0x1d0c6f4a1d0>,\n",
       " 'suggest': <gensim.models.keyedvectors.Vocab at 0x1d0c6f4a208>,\n",
       " 'end': <gensim.models.keyedvectors.Vocab at 0x1d0c6f4a240>,\n",
       " 'already': <gensim.models.keyedvectors.Vocab at 0x1d0c6f4a278>,\n",
       " 'possible': <gensim.models.keyedvectors.Vocab at 0x1d0c6f4a2b0>,\n",
       " 'available': <gensim.models.keyedvectors.Vocab at 0x1d0c6f4a2e8>,\n",
       " 'market': <gensim.models.keyedvectors.Vocab at 0x1d0c6f4a320>,\n",
       " 'many': <gensim.models.keyedvectors.Vocab at 0x1d0c6f4a358>,\n",
       " 'launch': <gensim.models.keyedvectors.Vocab at 0x1d0c6f4a390>,\n",
       " 'build': <gensim.models.keyedvectors.Vocab at 0x1d0c6f4a3c8>,\n",
       " 'even': <gensim.models.keyedvectors.Vocab at 0x1d0c6f4a400>,\n",
       " 'hour': <gensim.models.keyedvectors.Vocab at 0x1d0c6f4a438>,\n",
       " 'microsoft': <gensim.models.keyedvectors.Vocab at 0x1d0c6f4a470>,\n",
       " 'chief': <gensim.models.keyedvectors.Vocab at 0x1d0c6f4a4a8>,\n",
       " 'bill': <gensim.models.keyedvectors.Vocab at 0x1d0c6f4a4e0>,\n",
       " 'announce': <gensim.models.keyedvectors.Vocab at 0x1d0c6f4a518>,\n",
       " 'call': <gensim.models.keyedvectors.Vocab at 0x1d0c6f4a550>,\n",
       " 'pc': <gensim.models.keyedvectors.Vocab at 0x1d0c6f4a588>,\n",
       " 'mobile': <gensim.models.keyedvectors.Vocab at 0x1d0c6f4a5c0>,\n",
       " 'increase': <gensim.models.keyedvectors.Vocab at 0x1d0c6f4a5f8>,\n",
       " 'free': <gensim.models.keyedvectors.Vocab at 0x1d0c6f4a630>,\n",
       " 'leave': <gensim.models.keyedvectors.Vocab at 0x1d0c6f4a668>,\n",
       " 'former': <gensim.models.keyedvectors.Vocab at 0x1d0c6f4a6a0>,\n",
       " '£': <gensim.models.keyedvectors.Vocab at 0x1d0c6f4a6d8>,\n",
       " 'never': <gensim.models.keyedvectors.Vocab at 0x1d0c6f4a710>,\n",
       " 'make': <gensim.models.keyedvectors.Vocab at 0x1d0c6f4a748>,\n",
       " 'decision': <gensim.models.keyedvectors.Vocab at 0x1d0c6f4a780>,\n",
       " 'david': <gensim.models.keyedvectors.Vocab at 0x1d0c6f4a7b8>,\n",
       " 'comment': <gensim.models.keyedvectors.Vocab at 0x1d0c6f4a7f0>,\n",
       " 'question': <gensim.models.keyedvectors.Vocab at 0x1d0c6f4a828>,\n",
       " 'problem': <gensim.models.keyedvectors.Vocab at 0x1d0c6f4a860>,\n",
       " 'phone': <gensim.models.keyedvectors.Vocab at 0x1d0c6f4a898>,\n",
       " 'claim': <gensim.models.keyedvectors.Vocab at 0x1d0c6f4a8d0>,\n",
       " 'share': <gensim.models.keyedvectors.Vocab at 0x1d0c6f4a908>,\n",
       " 'monday': <gensim.models.keyedvectors.Vocab at 0x1d0c6f4a940>,\n",
       " 'try': <gensim.models.keyedvectors.Vocab at 0x1d0c6f4a978>,\n",
       " 'ask': <gensim.models.keyedvectors.Vocab at 0x1d0c6f4a9b0>,\n",
       " 'ever': <gensim.models.keyedvectors.Vocab at 0x1d0c6f4a9e8>,\n",
       " 'account': <gensim.models.keyedvectors.Vocab at 0x1d0c6f4aa20>,\n",
       " 'order': <gensim.models.keyedvectors.Vocab at 0x1d0c6f4aa58>,\n",
       " 'financial': <gensim.models.keyedvectors.Vocab at 0x1d0c6f4aa90>,\n",
       " 'later': <gensim.models.keyedvectors.Vocab at 0x1d0c6f4aac8>,\n",
       " 'trial': <gensim.models.keyedvectors.Vocab at 0x1d0c6f4ab00>,\n",
       " 'behind': <gensim.models.keyedvectors.Vocab at 0x1d0c6f4ab38>,\n",
       " 'house': <gensim.models.keyedvectors.Vocab at 0x1d0c6f4ab70>,\n",
       " 'card': <gensim.models.keyedvectors.Vocab at 0x1d0c6f4aba8>,\n",
       " 'team': <gensim.models.keyedvectors.Vocab at 0x1d0c6f4abe0>,\n",
       " 'look': <gensim.models.keyedvectors.Vocab at 0x1d0c6f4ac18>,\n",
       " 'late': <gensim.models.keyedvectors.Vocab at 0x1d0c6f4ac50>,\n",
       " 'however': <gensim.models.keyedvectors.Vocab at 0x1d0c6f4ac88>,\n",
       " 'job': <gensim.models.keyedvectors.Vocab at 0x1d0c6f4acc0>,\n",
       " 'expect': <gensim.models.keyedvectors.Vocab at 0x1d0c6f4acf8>,\n",
       " 'last': <gensim.models.keyedvectors.Vocab at 0x1d0c6f4ad30>,\n",
       " 'two': <gensim.models.keyedvectors.Vocab at 0x1d0c6f4ad68>,\n",
       " 'face': <gensim.models.keyedvectors.Vocab at 0x1d0c6f4ada0>,\n",
       " 'bid': <gensim.models.keyedvectors.Vocab at 0x1d0c6f4add8>,\n",
       " 'great': <gensim.models.keyedvectors.Vocab at 0x1d0c6f4ae10>,\n",
       " 'britain': <gensim.models.keyedvectors.Vocab at 0x1d0c6f4ae48>,\n",
       " 'rugby': <gensim.models.keyedvectors.Vocab at 0x1d0c6f4ae80>,\n",
       " 'league': <gensim.models.keyedvectors.Vocab at 0x1d0c6f4aeb8>,\n",
       " 'decide': <gensim.models.keyedvectors.Vocab at 0x1d0c6f4aef0>,\n",
       " 'still': <gensim.models.keyedvectors.Vocab at 0x1d0c6f4af28>,\n",
       " 'away': <gensim.models.keyedvectors.Vocab at 0x1d0c6f4af60>,\n",
       " 'go': <gensim.models.keyedvectors.Vocab at 0x1d0c6f4af98>,\n",
       " 'next': <gensim.models.keyedvectors.Vocab at 0x1d0c6f4afd0>,\n",
       " 'john': <gensim.models.keyedvectors.Vocab at 0x1d0c6f4d048>,\n",
       " 'radio': <gensim.models.keyedvectors.Vocab at 0x1d0c6f4d080>,\n",
       " 'lot': <gensim.models.keyedvectors.Vocab at 0x1d0c6f4d0b8>,\n",
       " 'least': <gensim.models.keyedvectors.Vocab at 0x1d0c6f4d0f0>,\n",
       " 'week': <gensim.models.keyedvectors.Vocab at 0x1d0c6f4d128>,\n",
       " 'ago': <gensim.models.keyedvectors.Vocab at 0x1d0c6f4d160>,\n",
       " 'another': <gensim.models.keyedvectors.Vocab at 0x1d0c6f4d198>,\n",
       " 'three': <gensim.models.keyedvectors.Vocab at 0x1d0c6f4d1d0>,\n",
       " 'believe': <gensim.models.keyedvectors.Vocab at 0x1d0c6f4d208>,\n",
       " 'head': <gensim.models.keyedvectors.Vocab at 0x1d0c6f4d240>,\n",
       " 'list': <gensim.models.keyedvectors.Vocab at 0x1d0c6f4d278>,\n",
       " 'union': <gensim.models.keyedvectors.Vocab at 0x1d0c6f4d2b0>,\n",
       " 'club': <gensim.models.keyedvectors.Vocab at 0x1d0c6f4d2e8>,\n",
       " 'game': <gensim.models.keyedvectors.Vocab at 0x1d0c6f4d320>,\n",
       " 'across': <gensim.models.keyedvectors.Vocab at 0x1d0c6f4d358>,\n",
       " 'would': <gensim.models.keyedvectors.Vocab at 0x1d0c6f4d390>,\n",
       " 'back': <gensim.models.keyedvectors.Vocab at 0x1d0c6f4d3c8>,\n",
       " 'centre': <gensim.models.keyedvectors.Vocab at 0x1d0c6f4d400>,\n",
       " 'think': <gensim.models.keyedvectors.Vocab at 0x1d0c6f4d438>,\n",
       " 'england': <gensim.models.keyedvectors.Vocab at 0x1d0c6f4d470>,\n",
       " 'within': <gensim.models.keyedvectors.Vocab at 0x1d0c6f4d4a8>,\n",
       " 'whether': <gensim.models.keyedvectors.Vocab at 0x1d0c6f4d4e0>,\n",
       " 'cost': <gensim.models.keyedvectors.Vocab at 0x1d0c6f4d518>,\n",
       " 'bring': <gensim.models.keyedvectors.Vocab at 0x1d0c6f4d550>,\n",
       " 'cup': <gensim.models.keyedvectors.Vocab at 0x1d0c6f4d588>,\n",
       " 'side': <gensim.models.keyedvectors.Vocab at 0x1d0c6f4d5c0>,\n",
       " 'united': <gensim.models.keyedvectors.Vocab at 0x1d0c6f4d5f8>,\n",
       " 'leader': <gensim.models.keyedvectors.Vocab at 0x1d0c6f4d630>,\n",
       " 'third': <gensim.models.keyedvectors.Vocab at 0x1d0c6f4d668>,\n",
       " 'beat': <gensim.models.keyedvectors.Vocab at 0x1d0c6f4d6a0>,\n",
       " 'second': <gensim.models.keyedvectors.Vocab at 0x1d0c6f4d6d8>,\n",
       " 'city': <gensim.models.keyedvectors.Vocab at 0x1d0c6f4d710>,\n",
       " 'saturday': <gensim.models.keyedvectors.Vocab at 0x1d0bb09c160>,\n",
       " 'meet': <gensim.models.keyedvectors.Vocab at 0x1d0bb09c128>,\n",
       " 'january': <gensim.models.keyedvectors.Vocab at 0x1d0bb09c0b8>,\n",
       " 'chelsea': <gensim.models.keyedvectors.Vocab at 0x1d0bb09d080>,\n",
       " 'hold': <gensim.models.keyedvectors.Vocab at 0x1d0bb09d128>,\n",
       " 'sunday': <gensim.models.keyedvectors.Vocab at 0x1d0bb098b70>,\n",
       " 'win': <gensim.models.keyedvectors.Vocab at 0x1d0bb0987f0>,\n",
       " 'number': <gensim.models.keyedvectors.Vocab at 0x1d0bb0982e8>,\n",
       " 'early': <gensim.models.keyedvectors.Vocab at 0x1d0bb098cc0>,\n",
       " 'season': <gensim.models.keyedvectors.Vocab at 0x1d0bb098780>,\n",
       " 'man': <gensim.models.keyedvectors.Vocab at 0x1d0bb098b38>,\n",
       " 'match': <gensim.models.keyedvectors.Vocab at 0x1d0bb098048>,\n",
       " 'office': <gensim.models.keyedvectors.Vocab at 0x1d0bb098d68>,\n",
       " 'sale': <gensim.models.keyedvectors.Vocab at 0x1d0bb098be0>,\n",
       " 'follow': <gensim.models.keyedvectors.Vocab at 0x1d0bb098978>,\n",
       " 'major': <gensim.models.keyedvectors.Vocab at 0x1d0bb098160>,\n",
       " 'national': <gensim.models.keyedvectors.Vocab at 0x1d0bb098f28>,\n",
       " 'place': <gensim.models.keyedvectors.Vocab at 0x1d0bb098f60>,\n",
       " 'top': <gensim.models.keyedvectors.Vocab at 0x1d0bb098e48>,\n",
       " 'star': <gensim.models.keyedvectors.Vocab at 0x1d0a5c200b8>,\n",
       " 'mark': <gensim.models.keyedvectors.Vocab at 0x1d0a5c20080>,\n",
       " 'open': <gensim.models.keyedvectors.Vocab at 0x1d0c6f4d748>,\n",
       " 'december': <gensim.models.keyedvectors.Vocab at 0x1d0c6f4d780>,\n",
       " 'release': <gensim.models.keyedvectors.Vocab at 0x1d0c6f4d7b8>,\n",
       " 'lord': <gensim.models.keyedvectors.Vocab at 0x1d0c6f4d7f0>,\n",
       " 'total': <gensim.models.keyedvectors.Vocab at 0x1d0c6f4d828>,\n",
       " 'film': <gensim.models.keyedvectors.Vocab at 0x1d0c6f4d860>,\n",
       " 'director': <gensim.models.keyedvectors.Vocab at 0x1d0c6f4d898>,\n",
       " 'return': <gensim.models.keyedvectors.Vocab at 0x1d0c6f4d8d0>,\n",
       " 'hit': <gensim.models.keyedvectors.Vocab at 0x1d0c6f4d908>,\n",
       " 'join': <gensim.models.keyedvectors.Vocab at 0x1d0c6f4d940>,\n",
       " 'good': <gensim.models.keyedvectors.Vocab at 0x1d0c6f4d978>,\n",
       " 'movie': <gensim.models.keyedvectors.Vocab at 0x1d0c6f4d9b0>,\n",
       " 'less': <gensim.models.keyedvectors.Vocab at 0x1d0c6f4d9e8>,\n",
       " 'project': <gensim.models.keyedvectors.Vocab at 0x1d0c6f4da20>,\n",
       " 'howard': <gensim.models.keyedvectors.Vocab at 0x1d0c6f4da58>,\n",
       " 'michael': <gensim.models.keyedvectors.Vocab at 0x1d0c6f4da90>,\n",
       " 'tory': <gensim.models.keyedvectors.Vocab at 0x1d0c6f4dac8>,\n",
       " 'act': <gensim.models.keyedvectors.Vocab at 0x1d0c6f4db00>,\n",
       " 'attack': <gensim.models.keyedvectors.Vocab at 0x1d0c6f4db38>,\n",
       " 'labour': <gensim.models.keyedvectors.Vocab at 0x1d0c6f4db70>,\n",
       " 'party': <gensim.models.keyedvectors.Vocab at 0x1d0c6f4dba8>,\n",
       " 'campaign': <gensim.models.keyedvectors.Vocab at 0x1d0c6f4dbe0>,\n",
       " 'something': <gensim.models.keyedvectors.Vocab at 0x1d0c6f4dc18>,\n",
       " 'little': <gensim.models.keyedvectors.Vocab at 0x1d0c6f4dc50>,\n",
       " 'four': <gensim.models.keyedvectors.Vocab at 0x1d0c6f4dc88>,\n",
       " 'government': <gensim.models.keyedvectors.Vocab at 0x1d0c6f4dcc0>,\n",
       " 'country': <gensim.models.keyedvectors.Vocab at 0x1d0c6f4dcf8>,\n",
       " 'far': <gensim.models.keyedvectors.Vocab at 0x1d0c6f4dd30>,\n",
       " 'secretary': <gensim.models.keyedvectors.Vocab at 0x1d0c6f4dd68>,\n",
       " 'real': <gensim.models.keyedvectors.Vocab at 0x1d0c6f4dda0>,\n",
       " 'really': <gensim.models.keyedvectors.Vocab at 0x1d0c6f4ddd8>,\n",
       " 'policy': <gensim.models.keyedvectors.Vocab at 0x1d0c6f4de10>,\n",
       " 'school': <gensim.models.keyedvectors.Vocab at 0x1d0c6f4de48>,\n",
       " 'since': <gensim.models.keyedvectors.Vocab at 0x1d0c6f4de80>,\n",
       " 'begin': <gensim.models.keyedvectors.Vocab at 0x1d0c6f4deb8>,\n",
       " 'election': <gensim.models.keyedvectors.Vocab at 0x1d0c6f4def0>,\n",
       " 'political': <gensim.models.keyedvectors.Vocab at 0x1d0c6f4df28>,\n",
       " 'deny': <gensim.models.keyedvectors.Vocab at 0x1d0c6f4df60>,\n",
       " 'case': <gensim.models.keyedvectors.Vocab at 0x1d0c6f4df98>,\n",
       " 'blair': <gensim.models.keyedvectors.Vocab at 0x1d0c6f4dfd0>,\n",
       " 'plan': <gensim.models.keyedvectors.Vocab at 0x1d0c6f4f048>,\n",
       " 'give': <gensim.models.keyedvectors.Vocab at 0x1d0c6f4f080>,\n",
       " 'chance': <gensim.models.keyedvectors.Vocab at 0x1d0c6f4f0b8>,\n",
       " 'state': <gensim.models.keyedvectors.Vocab at 0x1d0c6f4f0f0>,\n",
       " 'come': <gensim.models.keyedvectors.Vocab at 0x1d0c6f4f128>,\n",
       " 'family': <gensim.models.keyedvectors.Vocab at 0x1d0c6f4f160>,\n",
       " 'brown': <gensim.models.keyedvectors.Vocab at 0x1d0c6f4f198>,\n",
       " 'cut': <gensim.models.keyedvectors.Vocab at 0x1d0c6f4f1d0>,\n",
       " 'tax': <gensim.models.keyedvectors.Vocab at 0x1d0c6f4f208>,\n",
       " 'line': <gensim.models.keyedvectors.Vocab at 0x1d0c6f4f240>,\n",
       " 'day': <gensim.models.keyedvectors.Vocab at 0x1d0c6f4f278>,\n",
       " 'able': <gensim.models.keyedvectors.Vocab at 0x1d0c6f4f2b0>,\n",
       " 'child': <gensim.models.keyedvectors.Vocab at 0x1d0c6f4f2e8>,\n",
       " 'part': <gensim.models.keyedvectors.Vocab at 0x1d0c6f4f320>,\n",
       " 'always': <gensim.models.keyedvectors.Vocab at 0x1d0c6f4f358>,\n",
       " 'public': <gensim.models.keyedvectors.Vocab at 0x1d0c6f4f390>,\n",
       " 'spending': <gensim.models.keyedvectors.Vocab at 0x1d0c6f4f3c8>,\n",
       " 'name': <gensim.models.keyedvectors.Vocab at 0x1d0c6f4f400>,\n",
       " 'tony': <gensim.models.keyedvectors.Vocab at 0x1d0c6f4f438>,\n",
       " 'likely': <gensim.models.keyedvectors.Vocab at 0x1d0c6f4f470>,\n",
       " 'break': <gensim.models.keyedvectors.Vocab at 0x1d0c6f4f4a8>,\n",
       " 'prime': <gensim.models.keyedvectors.Vocab at 0x1d0c6f4f4e0>,\n",
       " 'minister': <gensim.models.keyedvectors.Vocab at 0x1d0c6f4f518>,\n",
       " 'key': <gensim.models.keyedvectors.Vocab at 0x1d0c6f4f550>,\n",
       " 'need': <gensim.models.keyedvectors.Vocab at 0x1d0c6f4f588>,\n",
       " 'budget': <gensim.models.keyedvectors.Vocab at 0x1d0c6f4f5c0>,\n",
       " 'close': <gensim.models.keyedvectors.Vocab at 0x1d0c6f4f5f8>,\n",
       " 'wednesday': <gensim.models.keyedvectors.Vocab at 0x1d0c6f4f630>,\n",
       " 'almost': <gensim.models.keyedvectors.Vocab at 0x1d0c6f4f668>,\n",
       " 'level': <gensim.models.keyedvectors.Vocab at 0x1d0c6f4f6a0>,\n",
       " 'general': <gensim.models.keyedvectors.Vocab at 0x1d0c6f4f6d8>,\n",
       " 'recent': <gensim.models.keyedvectors.Vocab at 0x1d0c6f4f710>,\n",
       " 'hope': <gensim.models.keyedvectors.Vocab at 0x1d0c6f4f748>,\n",
       " 'victory': <gensim.models.keyedvectors.Vocab at 0x1d0c6f4f780>,\n",
       " 'british': <gensim.models.keyedvectors.Vocab at 0x1d0c6f4f7b8>,\n",
       " 'keep': <gensim.models.keyedvectors.Vocab at 0x1d0c6f4f7f0>,\n",
       " 'form': <gensim.models.keyedvectors.Vocab at 0x1d0c6f4f828>,\n",
       " 'injury': <gensim.models.keyedvectors.Vocab at 0x1d0c6f4f860>,\n",
       " 'start': <gensim.models.keyedvectors.Vocab at 0x1d0c6f4f898>,\n",
       " 'miss': <gensim.models.keyedvectors.Vocab at 0x1d0c6f4f8d0>,\n",
       " 'international': <gensim.models.keyedvectors.Vocab at 0x1d0c6f4f908>,\n",
       " 'right': <gensim.models.keyedvectors.Vocab at 0x1d0c6f4f940>,\n",
       " 'south': <gensim.models.keyedvectors.Vocab at 0x1d0c6f4f978>,\n",
       " 'world': <gensim.models.keyedvectors.Vocab at 0x1d0c6f4f9b0>,\n",
       " 'final': <gensim.models.keyedvectors.Vocab at 0x1d0c6f4f9e8>,\n",
       " 'war': <gensim.models.keyedvectors.Vocab at 0x1d0c6f4fa20>,\n",
       " 'minute': <gensim.models.keyedvectors.Vocab at 0x1d0c6f4fa58>,\n",
       " 'series': <gensim.models.keyedvectors.Vocab at 0x1d0c6f4fa90>,\n",
       " 'rate': <gensim.models.keyedvectors.Vocab at 0x1d0c6f4fac8>,\n",
       " 'member': <gensim.models.keyedvectors.Vocab at 0x1d0c6f4fb00>,\n",
       " 'feel': <gensim.models.keyedvectors.Vocab at 0x1d0c6f4fb38>,\n",
       " 'must': <gensim.models.keyedvectors.Vocab at 0x1d0c6f4fb70>,\n",
       " 'police': <gensim.models.keyedvectors.Vocab at 0x1d0c6f4fba8>,\n",
       " 'include': <gensim.models.keyedvectors.Vocab at 0x1d0c6f4fbe0>,\n",
       " 'ensure': <gensim.models.keyedvectors.Vocab at 0x1d0c6f4fc18>,\n",
       " 'rise': <gensim.models.keyedvectors.Vocab at 0x1d0c6f4fc50>,\n",
       " 'first': <gensim.models.keyedvectors.Vocab at 0x1d0c6f4fc88>,\n",
       " 'drop': <gensim.models.keyedvectors.Vocab at 0x1d0c6f4fcc0>,\n",
       " 'six': <gensim.models.keyedvectors.Vocab at 0x1d0c6f4fcf8>,\n",
       " 'charge': <gensim.models.keyedvectors.Vocab at 0x1d0c6f4fd30>,\n",
       " 'version': <gensim.models.keyedvectors.Vocab at 0x1d0c6f4fd68>,\n",
       " 'music': <gensim.models.keyedvectors.Vocab at 0x1d0c6f4fda0>,\n",
       " 'performance': <gensim.models.keyedvectors.Vocab at 0x1d0c6f4fdd8>,\n",
       " 'feature': <gensim.models.keyedvectors.Vocab at 0x1d0c6f4fe10>,\n",
       " 'award': <gensim.models.keyedvectors.Vocab at 0x1d0c6f4fe48>,\n",
       " 'warn': <gensim.models.keyedvectors.Vocab at 0x1d0c6f4fe80>,\n",
       " 'fall': <gensim.models.keyedvectors.Vocab at 0x1d0c6f4feb8>,\n",
       " 'full': <gensim.models.keyedvectors.Vocab at 0x1d0c6f4fef0>,\n",
       " 'profit': <gensim.models.keyedvectors.Vocab at 0x1d0c6f4ff28>,\n",
       " 'march': <gensim.models.keyedvectors.Vocab at 0x1d0c6f4ff60>,\n",
       " 'demand': <gensim.models.keyedvectors.Vocab at 0x1d0c6f4ff98>,\n",
       " 'report': <gensim.models.keyedvectors.Vocab at 0x1d0c6f4ffd0>,\n",
       " 'november': <gensim.models.keyedvectors.Vocab at 0x1d0c6f52048>,\n",
       " 'continue': <gensim.models.keyedvectors.Vocab at 0x1d0c6f52080>,\n",
       " 'executive': <gensim.models.keyedvectors.Vocab at 0x1d0c6f520b8>,\n",
       " 'quarter': <gensim.models.keyedvectors.Vocab at 0x1d0c6f520f0>,\n",
       " 'due': <gensim.models.keyedvectors.Vocab at 0x1d0c6f52128>,\n",
       " 'half': <gensim.models.keyedvectors.Vocab at 0x1d0c6f52160>,\n",
       " 'fight': <gensim.models.keyedvectors.Vocab at 0x1d0c6f52198>,\n",
       " 'oil': <gensim.models.keyedvectors.Vocab at 0x1d0c6f521d0>,\n",
       " 'price': <gensim.models.keyedvectors.Vocab at 0x1d0c6f52208>,\n",
       " 'stock': <gensim.models.keyedvectors.Vocab at 0x1d0c6f52240>,\n",
       " 'low': <gensim.models.keyedvectors.Vocab at 0x1d0c6f52278>,\n",
       " 'dollar': <gensim.models.keyedvectors.Vocab at 0x1d0c6f522b0>,\n",
       " 'tuesday': <gensim.models.keyedvectors.Vocab at 0x1d0c6f522e8>,\n",
       " 'reach': <gensim.models.keyedvectors.Vocab at 0x1d0c6f52320>,\n",
       " 'london': <gensim.models.keyedvectors.Vocab at 0x1d0c6f52358>,\n",
       " 'strong': <gensim.models.keyedvectors.Vocab at 0x1d0c6f52390>,\n",
       " 'agree': <gensim.models.keyedvectors.Vocab at 0x1d0c6f523c8>,\n",
       " 'high': <gensim.models.keyedvectors.Vocab at 0x1d0c6f52400>,\n",
       " 'force': <gensim.models.keyedvectors.Vocab at 0x1d0c6f52438>,\n",
       " 'conservative': <gensim.models.keyedvectors.Vocab at 0x1d0c6f52470>,\n",
       " 'life': <gensim.models.keyedvectors.Vocab at 0x1d0c6f524a8>,\n",
       " 'rule': <gensim.models.keyedvectors.Vocab at 0x1d0c6f524e0>,\n",
       " 'remain': <gensim.models.keyedvectors.Vocab at 0x1d0c6f52518>,\n",
       " 'write': <gensim.models.keyedvectors.Vocab at 0x1d0c6f52550>,\n",
       " 'role': <gensim.models.keyedvectors.Vocab at 0x1d0c6f52588>,\n",
       " 'huge': <gensim.models.keyedvectors.Vocab at 0x1d0c6f525c0>,\n",
       " 'boost': <gensim.models.keyedvectors.Vocab at 0x1d0c6f525f8>,\n",
       " 'become': <gensim.models.keyedvectors.Vocab at 0x1d0c6f52630>,\n",
       " 'age': <gensim.models.keyedvectors.Vocab at 0x1d0c6f52668>,\n",
       " 'drive': <gensim.models.keyedvectors.Vocab at 0x1d0c6f526a0>,\n",
       " 'title': <gensim.models.keyedvectors.Vocab at 0x1d0c6f526d8>,\n",
       " 'goal': <gensim.models.keyedvectors.Vocab at 0x1d0c6f52710>,\n",
       " 'point': <gensim.models.keyedvectors.Vocab at 0x1d0c6f52748>,\n",
       " 'let': <gensim.models.keyedvectors.Vocab at 0x1d0c6f52780>,\n",
       " 'single': <gensim.models.keyedvectors.Vocab at 0x1d0c6f527b8>,\n",
       " 'player': <gensim.models.keyedvectors.Vocab at 0x1d0c6f527f0>,\n",
       " 'coach': <gensim.models.keyedvectors.Vocab at 0x1d0c6f52828>,\n",
       " 'court': <gensim.models.keyedvectors.Vocab at 0x1d0c6f52860>,\n",
       " 'thing': <gensim.models.keyedvectors.Vocab at 0x1d0c6f52898>,\n",
       " 'event': <gensim.models.keyedvectors.Vocab at 0x1d0c6f528d0>,\n",
       " 'american': <gensim.models.keyedvectors.Vocab at 0x1d0c6f52908>,\n",
       " 'large': <gensim.models.keyedvectors.Vocab at 0x1d0c6f52940>,\n",
       " 'million': <gensim.models.keyedvectors.Vocab at 0x1d0c6f52978>,\n",
       " 'customer': <gensim.models.keyedvectors.Vocab at 0x1d0c6f529b0>,\n",
       " 'send': <gensim.models.keyedvectors.Vocab at 0x1d0c6f529e8>,\n",
       " 'economy': <gensim.models.keyedvectors.Vocab at 0x1d0c6f52a20>,\n",
       " 'deal': <gensim.models.keyedvectors.Vocab at 0x1d0c6f52a58>,\n",
       " 'development': <gensim.models.keyedvectors.Vocab at 0x1d0c6f52a90>,\n",
       " 'bank': <gensim.models.keyedvectors.Vocab at 0x1d0c6f52ac8>,\n",
       " 'analyst': <gensim.models.keyedvectors.Vocab at 0x1d0c6f52b00>,\n",
       " 'run': <gensim.models.keyedvectors.Vocab at 0x1d0c6f52b38>,\n",
       " 'research': <gensim.models.keyedvectors.Vocab at 0x1d0c6f52b70>,\n",
       " 'offer': <gensim.models.keyedvectors.Vocab at 0x1d0c6f52ba8>,\n",
       " 'develop': <gensim.models.keyedvectors.Vocab at 0x1d0c6f52be0>,\n",
       " 'change': <gensim.models.keyedvectors.Vocab at 0x1d0c6f52c18>,\n",
       " 'past': <gensim.models.keyedvectors.Vocab at 0x1d0c6f52c50>,\n",
       " 'create': <gensim.models.keyedvectors.Vocab at 0x1d0c6f52c88>,\n",
       " 'around': <gensim.models.keyedvectors.Vocab at 0x1d0c6f52cc0>,\n",
       " 'do': <gensim.models.keyedvectors.Vocab at 0x1d0c6f52cf8>,\n",
       " 'actor': <gensim.models.keyedvectors.Vocab at 0x1d0c6f52d30>,\n",
       " 'spend': <gensim.models.keyedvectors.Vocab at 0x1d0c6f52d68>,\n",
       " 'site': <gensim.models.keyedvectors.Vocab at 0x1d0c6f52da0>,\n",
       " 'speak': <gensim.models.keyedvectors.Vocab at 0x1d0c6f52dd8>,\n",
       " 'every': <gensim.models.keyedvectors.Vocab at 0x1d0c6f52e10>,\n",
       " 'buy': <gensim.models.keyedvectors.Vocab at 0x1d0c6f52e48>,\n",
       " 'sport': <gensim.models.keyedvectors.Vocab at 0x1d0c6f52e80>,\n",
       " 'consider': <gensim.models.keyedvectors.Vocab at 0x1d0c6f52eb8>,\n",
       " 'clear': <gensim.models.keyedvectors.Vocab at 0x1d0c6f52ef0>,\n",
       " 'friday': <gensim.models.keyedvectors.Vocab at 0x1d0c6f52f28>,\n",
       " 'statement': <gensim.models.keyedvectors.Vocab at 0x1d0c6f52f60>,\n",
       " 'interest': <gensim.models.keyedvectors.Vocab at 0x1d0c6f52f98>,\n",
       " 'turn': <gensim.models.keyedvectors.Vocab at 0x1d0c6f52fd0>,\n",
       " 'security': <gensim.models.keyedvectors.Vocab at 0x1d0c6f56048>,\n",
       " 'online': <gensim.models.keyedvectors.Vocab at 0x1d0c6f56080>,\n",
       " 'trade': <gensim.models.keyedvectors.Vocab at 0x1d0c6f560b8>,\n",
       " 'provide': <gensim.models.keyedvectors.Vocab at 0x1d0c6f560f0>,\n",
       " 'software': <gensim.models.keyedvectors.Vocab at 0x1d0c6f56128>,\n",
       " 'sign': <gensim.models.keyedvectors.Vocab at 0x1d0c6f56160>,\n",
       " 'base': <gensim.models.keyedvectors.Vocab at 0x1d0c6f56198>,\n",
       " 'sell': <gensim.models.keyedvectors.Vocab at 0x1d0c6f561d0>,\n",
       " 'receive': <gensim.models.keyedvectors.Vocab at 0x1d0c6f56208>,\n",
       " 'pay': <gensim.models.keyedvectors.Vocab at 0x1d0c6f56240>,\n",
       " 'computer': <gensim.models.keyedvectors.Vocab at 0x1d0c6f56278>,\n",
       " 'email': <gensim.models.keyedvectors.Vocab at 0x1d0c6f562b0>,\n",
       " 'access': <gensim.models.keyedvectors.Vocab at 0x1d0c6f562e8>,\n",
       " 'message': <gensim.models.keyedvectors.Vocab at 0x1d0c6f56320>,\n",
       " 'internet': <gensim.models.keyedvectors.Vocab at 0x1d0c6f56358>,\n",
       " 'user': <gensim.models.keyedvectors.Vocab at 0x1d0c6f56390>,\n",
       " 'appear': <gensim.models.keyedvectors.Vocab at 0x1d0c6f563c8>,\n",
       " 'net': <gensim.models.keyedvectors.Vocab at 0x1d0c6f56400>,\n",
       " 'industry': <gensim.models.keyedvectors.Vocab at 0x1d0c6f56438>,\n",
       " 'main': <gensim.models.keyedvectors.Vocab at 0x1d0c6f56470>,\n",
       " 'chairman': <gensim.models.keyedvectors.Vocab at 0x1d0c6f564a8>,\n",
       " 'ahead': <gensim.models.keyedvectors.Vocab at 0x1d0c6f564e0>,\n",
       " 'fan': <gensim.models.keyedvectors.Vocab at 0x1d0c6f56518>,\n",
       " 'fund': <gensim.models.keyedvectors.Vocab at 0x1d0c6f56550>,\n",
       " 'long': <gensim.models.keyedvectors.Vocab at 0x1d0c6f56588>,\n",
       " 'medium': <gensim.models.keyedvectors.Vocab at 0x1d0c6f565c0>,\n",
       " 'success': <gensim.models.keyedvectors.Vocab at 0x1d0c6f565f8>,\n",
       " 'figure': <gensim.models.keyedvectors.Vocab at 0x1d0c6f56630>,\n",
       " 'money': <gensim.models.keyedvectors.Vocab at 0x1d0c6f56668>,\n",
       " 'current': <gensim.models.keyedvectors.Vocab at 0x1d0c6f566a0>,\n",
       " 'fail': <gensim.models.keyedvectors.Vocab at 0x1d0c6f566d8>,\n",
       " 'investment': <gensim.models.keyedvectors.Vocab at 0x1d0c6f56710>,\n",
       " 'action': <gensim.models.keyedvectors.Vocab at 0x1d0c6f56748>,\n",
       " 'bad': <gensim.models.keyedvectors.Vocab at 0x1d0c6f56780>,\n",
       " 'manager': <gensim.models.keyedvectors.Vocab at 0x1d0c6f567b8>,\n",
       " 'small': <gensim.models.keyedvectors.Vocab at 0x1d0c6f567f0>,\n",
       " 'standard': <gensim.models.keyedvectors.Vocab at 0x1d0c6f56828>,\n",
       " 'produce': <gensim.models.keyedvectors.Vocab at 0x1d0c6f56860>,\n",
       " 'area': <gensim.models.keyedvectors.Vocab at 0x1d0c6f56898>,\n",
       " 'information': <gensim.models.keyedvectors.Vocab at 0x1d0c6f568d0>,\n",
       " 'download': <gensim.models.keyedvectors.Vocab at 0x1d0c6f56908>,\n",
       " 'song': <gensim.models.keyedvectors.Vocab at 0x1d0c6f56940>,\n",
       " 'improve': <gensim.models.keyedvectors.Vocab at 0x1d0c6f56978>,\n",
       " 'european': <gensim.models.keyedvectors.Vocab at 0x1d0c6f569b0>,\n",
       " 'winner': <gensim.models.keyedvectors.Vocab at 0x1d0c6f569e8>,\n",
       " 'race': <gensim.models.keyedvectors.Vocab at 0x1d0c6f56a20>,\n",
       " 'aim': <gensim.models.keyedvectors.Vocab at 0x1d0c6f56a58>,\n",
       " 'datum': <gensim.models.keyedvectors.Vocab at 0x1d0c6f56a90>,\n",
       " 'band': <gensim.models.keyedvectors.Vocab at 0x1d0c6f56ac8>,\n",
       " 'ms': <gensim.models.keyedvectors.Vocab at 0x1d0c6f56b00>,\n",
       " 'law': <gensim.models.keyedvectors.Vocab at 0x1d0c6f56b38>,\n",
       " 'foreign': <gensim.models.keyedvectors.Vocab at 0x1d0c6f56b70>,\n",
       " 'without': <gensim.models.keyedvectors.Vocab at 0x1d0c6f56ba8>,\n",
       " 'power': <gensim.models.keyedvectors.Vocab at 0x1d0c6f56be0>,\n",
       " 'nation': <gensim.models.keyedvectors.Vocab at 0x1d0c6f56c18>,\n",
       " 'view': <gensim.models.keyedvectors.Vocab at 0x1d0c6f56c50>,\n",
       " 'spokesman': <gensim.models.keyedvectors.Vocab at 0x1d0c6f56c88>,\n",
       " 'woman': <gensim.models.keyedvectors.Vocab at 0x1d0c6f56cc0>,\n",
       " 'support': <gensim.models.keyedvectors.Vocab at 0x1d0c6f56cf8>,\n",
       " 'williams': <gensim.models.keyedvectors.Vocab at 0x1d0c6f56d30>,\n",
       " 'wales': <gensim.models.keyedvectors.Vocab at 0x1d0c6f56d68>,\n",
       " 'february': <gensim.models.keyedvectors.Vocab at 0x1d0c6f56da0>,\n",
       " 'result': <gensim.models.keyedvectors.Vocab at 0x1d0c6f56dd8>,\n",
       " 'attempt': <gensim.models.keyedvectors.Vocab at 0x1d0c6f56e10>,\n",
       " 'target': <gensim.models.keyedvectors.Vocab at 0x1d0c6f56e48>,\n",
       " 'vote': <gensim.models.keyedvectors.Vocab at 0x1d0c6f56e80>,\n",
       " 'enough': <gensim.models.keyedvectors.Vocab at 0x1d0c6f56eb8>,\n",
       " 'currently': <gensim.models.keyedvectors.Vocab at 0x1d0c6f56ef0>,\n",
       " 'file': <gensim.models.keyedvectors.Vocab at 0x1d0c6f56f28>,\n",
       " 'despite': <gensim.models.keyedvectors.Vocab at 0x1d0c6f56f60>,\n",
       " 'local': <gensim.models.keyedvectors.Vocab at 0x1d0c6f56f98>,\n",
       " 'official': <gensim.models.keyedvectors.Vocab at 0x1d0c6f56fd0>,\n",
       " 'fear': <gensim.models.keyedvectors.Vocab at 0x1d0c6f5a048>,\n",
       " 'commission': <gensim.models.keyedvectors.Vocab at 0x1d0c6f5a080>,\n",
       " 'ban': <gensim.models.keyedvectors.Vocab at 0x1d0c6f5a0b8>,\n",
       " 'ireland': <gensim.models.keyedvectors.Vocab at 0x1d0c6f5a0f0>,\n",
       " 'growth': <gensim.models.keyedvectors.Vocab at 0x1d0c6f5a128>,\n",
       " 'product': <gensim.models.keyedvectors.Vocab at 0x1d0c6f5a160>,\n",
       " 'test': <gensim.models.keyedvectors.Vocab at 0x1d0c6f5a198>,\n",
       " 'meeting': <gensim.models.keyedvectors.Vocab at 0x1d0c6f5a1d0>,\n",
       " 'china': <gensim.models.keyedvectors.Vocab at 0x1d0c6f5a208>,\n",
       " 'scotland': <gensim.models.keyedvectors.Vocab at 0x1d0c6f5a240>,\n",
       " 'album': <gensim.models.keyedvectors.Vocab at 0x1d0c6f5a278>,\n",
       " 'stop': <gensim.models.keyedvectors.Vocab at 0x1d0c6f5a2b0>,\n",
       " 'among': <gensim.models.keyedvectors.Vocab at 0x1d0c6f5a2e8>,\n",
       " 'eu': <gensim.models.keyedvectors.Vocab at 0x1d0c6f5a320>,\n",
       " 'legal': <gensim.models.keyedvectors.Vocab at 0x1d0c6f5a358>,\n",
       " 'economic': <gensim.models.keyedvectors.Vocab at 0x1d0c6f5a390>,\n",
       " 'chancellor': <gensim.models.keyedvectors.Vocab at 0x1d0c6f5a3c8>,\n",
       " 'france': <gensim.models.keyedvectors.Vocab at 0x1d0c6f5a400>,\n",
       " 'india': <gensim.models.keyedvectors.Vocab at 0x1d0c6f5a438>,\n",
       " 'car': <gensim.models.keyedvectors.Vocab at 0x1d0c6f5a470>,\n",
       " 'council': <gensim.models.keyedvectors.Vocab at 0x1d0c6f5a4a8>,\n",
       " 'apple': <gensim.models.keyedvectors.Vocab at 0x1d0c6f5a4e0>}"
      ]
     },
     "execution_count": 47,
     "metadata": {},
     "output_type": "execute_result"
    }
   ],
   "source": [
    "w2v_model.wv.vocab"
   ]
  },
  {
   "cell_type": "code",
   "execution_count": 49,
   "metadata": {},
   "outputs": [
    {
     "name": "stderr",
     "output_type": "stream",
     "text": [
      "C:\\Users\\builder\\Anaconda\\lib\\site-packages\\ipykernel_launcher.py:6: DeprecationWarning: Call to deprecated `__getitem__` (Method will be removed in 4.0.0, use self.wv.__getitem__() instead).\n",
      "  \n",
      "C:\\Users\\builder\\Anaconda\\lib\\site-packages\\ipykernel_launcher.py:10: DeprecationWarning: Call to deprecated `__getitem__` (Method will be removed in 4.0.0, use self.wv.__getitem__() instead).\n",
      "  # Remove the CWD from sys.path while we load stuff.\n"
     ]
    },
    {
     "data": {
      "image/png": "[encoded data removed]",
      "text/plain": [
       "<Figure size 720x720 with 1 Axes>"
      ]
     },
     "metadata": {
      "needs_background": "light"
     },
     "output_type": "display_data"
    }
   ],
   "source": [
    "# Use t-SNE to represent high-dimensional data \n",
    "# and the underlying relationships between vectors in a lower-dimensional space.\n",
    "tsne_plot(w2v_model, 'president')"
   ]
  },
  {
   "cell_type": "code",
   "execution_count": 51,
   "metadata": {},
   "outputs": [
    {
     "name": "stderr",
     "output_type": "stream",
     "text": [
      "C:\\Users\\builder\\Anaconda\\lib\\site-packages\\ipykernel_launcher.py:6: DeprecationWarning: Call to deprecated `__getitem__` (Method will be removed in 4.0.0, use self.wv.__getitem__() instead).\n",
      "  \n",
      "C:\\Users\\builder\\Anaconda\\lib\\site-packages\\ipykernel_launcher.py:10: DeprecationWarning: Call to deprecated `__getitem__` (Method will be removed in 4.0.0, use self.wv.__getitem__() instead).\n",
      "  # Remove the CWD from sys.path while we load stuff.\n"
     ]
    },
    {
     "data": {
      "image/png": "[encoded data removed]",
      "text/plain": [
       "<Figure size 720x720 with 1 Axes>"
      ]
     },
     "metadata": {
      "needs_background": "light"
     },
     "output_type": "display_data"
    }
   ],
   "source": [
    "tsne_plot(w2v_model, 'economy')"
   ]
  },
  {
   "cell_type": "code",
   "execution_count": 52,
   "metadata": {},
   "outputs": [
    {
     "name": "stderr",
     "output_type": "stream",
     "text": [
      "C:\\Users\\builder\\Anaconda\\lib\\site-packages\\ipykernel_launcher.py:6: DeprecationWarning: Call to deprecated `__getitem__` (Method will be removed in 4.0.0, use self.wv.__getitem__() instead).\n",
      "  \n",
      "C:\\Users\\builder\\Anaconda\\lib\\site-packages\\ipykernel_launcher.py:10: DeprecationWarning: Call to deprecated `__getitem__` (Method will be removed in 4.0.0, use self.wv.__getitem__() instead).\n",
      "  # Remove the CWD from sys.path while we load stuff.\n"
     ]
    },
    {
     "data": {
      "image/png": "[encoded data removed]",
      "text/plain": [
       "<Figure size 720x720 with 1 Axes>"
      ]
     },
     "metadata": {
      "needs_background": "light"
     },
     "output_type": "display_data"
    }
   ],
   "source": [
    "tsne_plot(w2v_model, 'business')"
   ]
  },
  {
   "cell_type": "code",
   "execution_count": null,
   "metadata": {},
   "outputs": [],
   "source": []
  }
 ],
 "metadata": {
  "kernelspec": {
   "display_name": "Python 3",
   "language": "python",
   "name": "python3"
  },
  "language_info": {
   "codemirror_mode": {
    "name": "ipython",
    "version": 3
   },
   "file_extension": ".py",
   "mimetype": "text/x-python",
   "name": "python",
   "nbconvert_exporter": "python",
   "pygments_lexer": "ipython3",
   "version": "3.7.3"
  }
 },
 "nbformat": 4,
 "nbformat_minor": 2
}
